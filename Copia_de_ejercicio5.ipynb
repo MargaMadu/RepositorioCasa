{
  "cells": [
    {
      "cell_type": "markdown",
      "metadata": {
        "id": "view-in-github",
        "colab_type": "text"
      },
      "source": [
        "<a href=\"https://colab.research.google.com/github/MargaMadu/RepositorioCasa/blob/main/Copia_de_ejercicio5.ipynb\" target=\"_parent\"><img src=\"https://colab.research.google.com/assets/colab-badge.svg\" alt=\"Open In Colab\"/></a>"
      ]
    },
    {
      "cell_type": "markdown",
      "metadata": {
        "id": "Xh5qQbvyhVbr"
      },
      "source": [
        "## Ejercicio\n",
        "\n",
        "Escribe un programa que pregunte al usuario por el número de horas trabajadas y el coste por hora. Después debe mostrar por pantalla la paga que le corresponde."
      ]
    },
    {
      "cell_type": "markdown",
      "metadata": {
        "id": "rbsW_FD1hVbs"
      },
      "source": [
        "## Solución"
      ]
    },
    {
      "cell_type": "code",
      "execution_count": 3,
      "metadata": {
        "id": "bzi2EhkwhVbs",
        "colab": {
          "base_uri": "https://localhost:8080/"
        },
        "outputId": "ebb60d34-1677-416f-aaa8-981622077510"
      },
      "outputs": [
        {
          "output_type": "stream",
          "name": "stdout",
          "text": [
            "Introduce tus horas de trabajo: 60\n",
            "Introduce lo que cobras por hora: 50\n",
            "Tu paga es 3000.0\n"
          ]
        }
      ],
      "source": [
        "horas = float(input(\"Introduce tus horas de trabajo: \"))\n",
        "coste = float(input(\"Introduce lo que cobras por hora: \"))\n",
        "paga = horas * coste\n",
        "print(\"Tu paga es\", paga)"
      ]
    }
  ],
  "metadata": {
    "kernelspec": {
      "display_name": "Python 3",
      "language": "python",
      "name": "python3"
    },
    "language_info": {
      "codemirror_mode": {
        "name": "ipython",
        "version": 3
      },
      "file_extension": ".py",
      "mimetype": "text/x-python",
      "name": "python",
      "nbconvert_exporter": "python",
      "pygments_lexer": "ipython3",
      "version": "3.9.1-final"
    },
    "colab": {
      "provenance": [],
      "include_colab_link": true
    }
  },
  "nbformat": 4,
  "nbformat_minor": 0
}