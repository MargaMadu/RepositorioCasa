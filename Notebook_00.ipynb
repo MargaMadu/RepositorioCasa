{
  "nbformat": 4,
  "nbformat_minor": 0,
  "metadata": {
    "colab": {
      "provenance": [],
      "toc_visible": true,
      "include_colab_link": true
    },
    "kernelspec": {
      "name": "python3",
      "display_name": "Python 3"
    },
    "language_info": {
      "name": "python"
    }
  },
  "cells": [
    {
      "cell_type": "markdown",
      "metadata": {
        "id": "view-in-github",
        "colab_type": "text"
      },
      "source": [
        "<a href=\"https://colab.research.google.com/github/MargaMadu/RepositorioCasa/blob/main/Notebook_00.ipynb\" target=\"_parent\"><img src=\"https://colab.research.google.com/assets/colab-badge.svg\" alt=\"Open In Colab\"/></a>"
      ]
    },
    {
      "cell_type": "markdown",
      "source": [
        "# **Tarea PIA03**\n",
        "## Apartado **2**\n",
        "### Utilizar Lenguaje de Marcación\n",
        "### *Alumna de CIEDAD :* *Margarita Madueño*\n",
        "[link página Python](https://www.python.org/)\n",
        "![imagen](https://www.python.org/static/img/python-logo@2x.png)\n"
      ],
      "metadata": {
        "id": "CSPGH2Ub34OT"
      }
    },
    {
      "cell_type": "code",
      "execution_count": null,
      "metadata": {
        "id": "_jhhhu3E74Uz"
      },
      "outputs": [],
      "source": [
        "#@title import this\n",
        "import this"
      ]
    },
    {
      "cell_type": "markdown",
      "source": [
        "1.  **Se crean las Listas ciudades y artistas **\n",
        "\n",
        "\n"
      ],
      "metadata": {
        "id": "o-iRDN6JEXvy"
      }
    },
    {
      "cell_type": "code",
      "source": [
        "\n",
        "#@title  Crear lista ciudades\n",
        "ciudades =[\"Malaga\", \"Cordoba\", \"Huelva\", \"Segovia\" , \"Toledo\", \"Madrid\", \"Oviedo\", \"Santander\",\"Murcia\",\"Valencia\" ]\n",
        "print(ciudades)"
      ],
      "metadata": {
        "colab": {
          "base_uri": "https://localhost:8080/"
        },
        "id": "YQ_C5gU89Yrn",
        "outputId": "00dd9874-a5ee-43f7-a59d-986d551fbe0b"
      },
      "execution_count": null,
      "outputs": [
        {
          "output_type": "stream",
          "name": "stdout",
          "text": [
            "['Malaga', 'Cordoba', 'Huelva', 'Segovia', 'Toledo', 'Madrid', 'Oviedo', 'Santander', 'Murcia', 'Valencia']\n"
          ]
        }
      ]
    },
    {
      "cell_type": "markdown",
      "source": [
        "# Nueva sección"
      ],
      "metadata": {
        "id": "t7bwjDkRwwIU"
      }
    },
    {
      "cell_type": "code",
      "source": [
        "#@title Crear lista artistas\n",
        "artistas =[\"Alejandro Sanz\", \"Rafael\", \"Rosalia\", \"Pablo Alboran\" , \"Enrique Iglesias\", \"David Bisbal\", \"Abraham Mateo\", \"Ana Mena\",\"Aitana\",\"Luis Miguel\" ]\n",
        "print(artistas)"
      ],
      "metadata": {
        "colab": {
          "base_uri": "https://localhost:8080/"
        },
        "id": "D708CX1K-pRB",
        "outputId": "60f21d82-893d-4751-a4a4-fcdadb9940c5"
      },
      "execution_count": null,
      "outputs": [
        {
          "output_type": "stream",
          "name": "stdout",
          "text": [
            "['Alejandro Sanz', 'Rafael', 'Rosalia', 'Pablo Alboran', 'Enrique Iglesias', 'David Bisbal', 'Abraham Mateo', 'Ana Mena', 'Aitana', 'Luis Miguel']\n"
          ]
        }
      ]
    },
    {
      "cell_type": "markdown",
      "source": [
        "2. Diccionario con ciudades y artistas."
      ],
      "metadata": {
        "id": "1WkXa3UtE4cK"
      }
    },
    {
      "cell_type": "code",
      "source": [
        "#@title Crear diccionario\n",
        "mi_diccionario = {}\n",
        "for i in range(len(artistas)):\n",
        "  mi_diccionario[artistas[i]] = ciudades[i]\n",
        "print(mi_diccionario)"
      ],
      "metadata": {
        "colab": {
          "base_uri": "https://localhost:8080/"
        },
        "id": "-IXAcqxy_9qq",
        "outputId": "213a80a0-14fd-47bf-90be-1814b03d8da2"
      },
      "execution_count": null,
      "outputs": [
        {
          "output_type": "stream",
          "name": "stdout",
          "text": [
            "{'Alejandro Sanz': 'Malaga', 'Rafael': 'Cordoba', 'Rosalia': 'Huelva', 'Pablo Alboran': 'Segovia', 'Enrique Iglesias': 'Toledo', 'David Bisbal': 'Madrid', 'Abraham Mateo': 'Oviedo', 'Ana Mena': 'Santander', 'Aitana': 'Murcia', 'Luis Miguel': 'Valencia'}\n"
          ]
        }
      ]
    },
    {
      "cell_type": "markdown",
      "source": [
        "3. Se imprimen la lista de conciertos contenidas en el diccionario."
      ],
      "metadata": {
        "id": "oknnnsoTb70a"
      }
    },
    {
      "cell_type": "code",
      "source": [
        "#@title  Imprimir diccionario\n",
        "print(\"Estos son los conciertos para esta semana :\" )\n",
        "for c, v in mi_diccionario.items():\n",
        "  print(f\" {c:<18} {v}\")"
      ],
      "metadata": {
        "colab": {
          "base_uri": "https://localhost:8080/"
        },
        "id": "nmkc8uD5cATh",
        "outputId": "32e8be15-39bf-4791-b90c-d26e9378a7d3"
      },
      "execution_count": null,
      "outputs": [
        {
          "output_type": "stream",
          "name": "stdout",
          "text": [
            "Estos son los conciertos para esta semana :\n",
            " Alejandro Sanz     Cordoba\n",
            " Rafael             Huelva\n",
            " Rosalia            Segovia\n",
            " Pablo Alboran      Toledo\n",
            " Enrique Iglesias   Madrid\n",
            " David Bisbal       Oviedo\n",
            " Abraham Mateo      Santander\n",
            " Ana Mena           Murcia\n",
            " Aitana             Valencia\n",
            " Luis Miguel        Malaga\n"
          ]
        }
      ]
    },
    {
      "cell_type": "markdown",
      "source": [
        "4. Se procede a cambiar las ciudades a los artistas, se utiliza una función :\n",
        "**Función rotar:**, *la primera ciudad pasa a ser la última, luego, cada vez que se llame a la función rotará un lugar*\n",
        "\n",
        "\n",
        "\n"
      ],
      "metadata": {
        "id": "6a0FHj2QcUaS"
      }
    },
    {
      "cell_type": "code",
      "source": [
        "#@title  Función rotar ciudades\n",
        "print(ciudades)\n",
        "\n",
        "def rotar(lista):\n",
        "    contador=0\n",
        "    r = ciudades.pop(contador)\n",
        "    ciudades.append(r)\n",
        "    return lista\n",
        "\n",
        "rotar(ciudades)\n",
        "\n",
        "print(ciudades)"
      ],
      "metadata": {
        "colab": {
          "base_uri": "https://localhost:8080/"
        },
        "id": "8hw1HJSLxNdt",
        "outputId": "39637ef1-330d-4023-f0a4-285b348ac033"
      },
      "execution_count": null,
      "outputs": [
        {
          "output_type": "stream",
          "name": "stdout",
          "text": [
            "['Malaga', 'Cordoba', 'Huelva', 'Segovia', 'Toledo', 'Madrid', 'Oviedo', 'Santander', 'Murcia', 'Valencia']\n",
            "['Cordoba', 'Huelva', 'Segovia', 'Toledo', 'Madrid', 'Oviedo', 'Santander', 'Murcia', 'Valencia', 'Malaga']\n"
          ]
        }
      ]
    },
    {
      "cell_type": "markdown",
      "source": [
        "5. Se asigna al diccionario los nuevos valores de la lista ciudades.\n",
        "6. Se imprimen los conciertos con las ciudades cambiadas."
      ],
      "metadata": {
        "id": "q8JHV4oayTvX"
      }
    },
    {
      "cell_type": "code",
      "source": [
        "#@title Modificar diccionario e imprimirlo\n",
        "# modificar el diccionario con los nuevos valores de la lista\n",
        "for ciudad, val in zip(ciudades, mi_diccionario):\n",
        "  mi_diccionario[val] = ciudad\n",
        "\n",
        "\n",
        "# imprimir\n",
        "print(\"Estos son los conciertos para próxima semana :\" )\n",
        "for c, v in mi_diccionario.items():\n",
        "  print(f\" {c:<18} {v}\")\n"
      ],
      "metadata": {
        "colab": {
          "base_uri": "https://localhost:8080/"
        },
        "id": "hXn76p_qyfsE",
        "outputId": "f0a651b8-c666-4ce9-d1f7-98e72b12869f"
      },
      "execution_count": null,
      "outputs": [
        {
          "output_type": "stream",
          "name": "stdout",
          "text": [
            "Estos son los conciertos para próxima semana :\n",
            " Alejandro Sanz     Cordoba\n",
            " Rafael             Huelva\n",
            " Rosalia            Segovia\n",
            " Pablo Alboran      Toledo\n",
            " Enrique Iglesias   Madrid\n",
            " David Bisbal       Oviedo\n",
            " Abraham Mateo      Santander\n",
            " Ana Mena           Murcia\n",
            " Aitana             Valencia\n",
            " Luis Miguel        Malaga\n"
          ]
        }
      ]
    }
  ]
}